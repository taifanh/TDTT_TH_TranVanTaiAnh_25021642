{
 "cells": [
  {
   "cell_type": "code",
   "execution_count": 6,
   "id": "315339e7",
   "metadata": {},
   "outputs": [
    {
     "name": "stdout",
     "output_type": "stream",
     "text": [
      "54521\n"
     ]
    }
   ],
   "source": [
    "# Viết một chương trình nhập vào một số nguyên n và in ra các chữ số đảo ngược nhau.\n",
    "n = int(input())\n",
    "m = 0\n",
    "while n > 0:\n",
    "    m = m * 10 + n % 10\n",
    "    n //= 10\n",
    "print(m)"
   ]
  },
  {
   "cell_type": "code",
   "execution_count": 7,
   "id": "1b6ca6b7",
   "metadata": {},
   "outputs": [
    {
     "name": "stdout",
     "output_type": "stream",
     "text": [
      "2 1\n"
     ]
    }
   ],
   "source": [
    "# Hoán đổi hai số không sd biến tạm thời\n",
    "# Sử dụng phép toán XOR bitwise để hoán đổi giá trị của hai biến.\n",
    "a, b = map(int, input().split())\n",
    "a = a ^ b\n",
    "b = a ^ b\n",
    "a = a ^ b\n",
    "print(a, b)"
   ]
  },
  {
   "cell_type": "code",
   "execution_count": 8,
   "id": "7499df76",
   "metadata": {},
   "outputs": [
    {
     "name": "stdout",
     "output_type": "stream",
     "text": [
      "True\n"
     ]
    }
   ],
   "source": [
    "# Kiểm tra xem một số có phải là lũy thừa của 2 hay không\n",
    "# Sử dụng các toán tử bitwise để xác định xem một số có phải là lũy thừa của 2 hay không.\n",
    "n = int(input())\n",
    "print(n & (n - 1) == 0)"
   ]
  },
  {
   "cell_type": "code",
   "execution_count": 10,
   "id": "28d2b6a4",
   "metadata": {},
   "outputs": [
    {
     "name": "stdout",
     "output_type": "stream",
     "text": [
      "6129\n"
     ]
    }
   ],
   "source": [
    "# viêt chương trình chia một số m cho n, kết quả thu được làm tròn xuống\n",
    "m, n = map(int, input().split())\n",
    "print(m // n)"
   ]
  },
  {
   "cell_type": "code",
   "execution_count": null,
   "id": "3b3eedb0",
   "metadata": {},
   "outputs": [
    {
     "name": "stdout",
     "output_type": "stream",
     "text": [
      "6130\n"
     ]
    }
   ],
   "source": [
    "\n",
    "# viêt chương trình chia một số m cho n, kết quả thu được làm tròn lên\n",
    "m, n = map(int, input().split())\n",
    "print(round(m / n))"
   ]
  },
  {
   "cell_type": "code",
   "execution_count": 21,
   "id": "e880e7b8",
   "metadata": {},
   "outputs": [
    {
     "name": "stdout",
     "output_type": "stream",
     "text": [
      "Even\n"
     ]
    }
   ],
   "source": [
    "# [Even and Odd]\n",
    "x = int(input())\n",
    "print(\"Odd\" if x & 1 else \"Even\")"
   ]
  },
  {
   "cell_type": "code",
   "execution_count": null,
   "id": "0f367f80",
   "metadata": {},
   "outputs": [
    {
     "name": "stdout",
     "output_type": "stream",
     "text": [
      "Yes\n"
     ]
    }
   ],
   "source": [
    "# [Check negative numbers]\n",
    "a, b = [int(input()) for i in range(0, 2)]\n",
    "print(\"Yes\" if a < 0 and b < 0 else \"No\")"
   ]
  },
  {
   "cell_type": "code",
   "execution_count": null,
   "id": "caa46041",
   "metadata": {},
   "outputs": [
    {
     "name": "stdout",
     "output_type": "stream",
     "text": [
      "False\n"
     ]
    }
   ],
   "source": [
    "# [Longer string]\n",
    "a, b = [input() for i in range(0, 2)]\n",
    "print(len(a) > len(b))"
   ]
  },
  {
   "cell_type": "code",
   "execution_count": null,
   "id": "0853382b",
   "metadata": {},
   "outputs": [
    {
     "name": "stdout",
     "output_type": "stream",
     "text": [
      "Yes\n"
     ]
    }
   ],
   "source": [
    "# [Triangle]\n",
    "a, b, c = [int(input()) for i in range(0, 3)]\n",
    "print(\"Yes\" if a + b >= c and a + c >= b and b + c >= a else \"No\")"
   ]
  },
  {
   "cell_type": "code",
   "execution_count": null,
   "id": "acb5cadd",
   "metadata": {},
   "outputs": [
    {
     "name": "stdout",
     "output_type": "stream",
     "text": [
      "5 2 3\n"
     ]
    }
   ],
   "source": [
    "# [Largest number]\n",
    "a, b, c, d = [int(input()) for i in range(0, 4)]\n",
    "print(max(a, b, c, d))"
   ]
  },
  {
   "cell_type": "code",
   "execution_count": 39,
   "id": "d8ac381f",
   "metadata": {},
   "outputs": [
    {
     "name": "stdout",
     "output_type": "stream",
     "text": [
      "Tam giác đều\n"
     ]
    }
   ],
   "source": [
    "# [Phân loại tam giác]\n",
    "a, b, c = map(int, input().split())\n",
    "if a + b <= c or a + c <= b or b + c <= a:\n",
    "    print(\"Không phải tam giác\")\n",
    "elif a == b or a == c or b == c:\n",
    "    if a == b == c:\n",
    "        print(\"Tam giác đều\")\n",
    "    else:\n",
    "        print(\"Tam giác cân\")\n",
    "else:\n",
    "    print(\"Tam giác thường\")"
   ]
  },
  {
   "cell_type": "code",
   "execution_count": 44,
   "id": "963ce783",
   "metadata": {},
   "outputs": [
    {
     "name": "stdout",
     "output_type": "stream",
     "text": [
      "No\n"
     ]
    }
   ],
   "source": [
    "# [Kiểm tra năm nhuận]\n",
    "n = int(input())\n",
    "if (n % 4 == 0 and n % 100 != 0) or (n % 400 == 0):\n",
    "    print(\"Yes\")\n",
    "else:\n",
    "    print(\"No\")"
   ]
  },
  {
   "cell_type": "code",
   "execution_count": 48,
   "id": "95276d37",
   "metadata": {},
   "outputs": [
    {
     "name": "stdout",
     "output_type": "stream",
     "text": [
      "175000\n"
     ]
    }
   ],
   "source": [
    "# [Tính tiền điện]\n",
    "n = int(input())\n",
    "if n <= 50:\n",
    "    print(n * 1500)\n",
    "elif 50 < n <= 100:\n",
    "    print(1500 * 50 + (n - 50) * 2000)\n",
    "else:\n",
    "    print(3500 * 50 + (n - 100) * 3000)"
   ]
  },
  {
   "cell_type": "code",
   "execution_count": 55,
   "id": "83ff1d6c",
   "metadata": {},
   "outputs": [
    {
     "name": "stdout",
     "output_type": "stream",
     "text": [
      "3.00\n"
     ]
    }
   ],
   "source": [
    "# [Giải phương trình bậc nhất]\n",
    "a, b = [float(input()) for i in range(0, 2)]\n",
    "if a == 0 and b != 0:\n",
    "    print(\"Vô nghiệm\")\n",
    "elif a == 0 and b == 0:\n",
    "    print(\"Vô số nghiệm\")\n",
    "else:\n",
    "    print(f\"{-b / a:.2f}\")"
   ]
  }
 ],
 "metadata": {
  "kernelspec": {
   "display_name": ".venv",
   "language": "python",
   "name": "python3"
  },
  "language_info": {
   "codemirror_mode": {
    "name": "ipython",
    "version": 3
   },
   "file_extension": ".py",
   "mimetype": "text/x-python",
   "name": "python",
   "nbconvert_exporter": "python",
   "pygments_lexer": "ipython3",
   "version": "3.13.7"
  }
 },
 "nbformat": 4,
 "nbformat_minor": 5
}
