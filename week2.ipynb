{
 "cells": [
  {
   "cell_type": "markdown",
   "id": "d65ccaf5",
   "metadata": {},
   "source": [
    "Bài 1"
   ]
  },
  {
   "cell_type": "code",
   "execution_count": 6,
   "id": "e365fb30",
   "metadata": {},
   "outputs": [
    {
     "name": "stdout",
     "output_type": "stream",
     "text": [
      "5\n"
     ]
    }
   ],
   "source": [
    "n = int(input())\n",
    "print(n * 2)"
   ]
  },
  {
   "cell_type": "markdown",
   "id": "ee6c0c51",
   "metadata": {},
   "source": [
    "Bài 2"
   ]
  },
  {
   "cell_type": "code",
   "execution_count": 7,
   "id": "167a4f62",
   "metadata": {},
   "outputs": [
    {
     "name": "stdout",
     "output_type": "stream",
     "text": [
      "4.86\n"
     ]
    }
   ],
   "source": [
    "a, b = map(float, input().split())\n",
    "s_hcn = a * b\n",
    "s_tron = (min(a, b) / 2) ** 2 * 3.14\n",
    "result = round(s_hcn - s_tron, 2)\n",
    "print(result)"
   ]
  },
  {
   "cell_type": "markdown",
   "id": "02fa6664",
   "metadata": {},
   "source": [
    "Bài 3"
   ]
  },
  {
   "cell_type": "code",
   "execution_count": 45,
   "id": "6fafdb29",
   "metadata": {},
   "outputs": [
    {
     "name": "stdout",
     "output_type": "stream",
     "text": [
      "a\n"
     ]
    }
   ],
   "source": [
    "c = input()\n",
    "if ord(c) <= ord('Z') and ord(c) >= ord('A'):\n",
    "    print(chr(ord(c) - (ord('A') - ord('a'))))\n",
    "else:\n",
    "    print(chr(ord(c) - (ord('a') - ord('A'))))"
   ]
  },
  {
   "cell_type": "markdown",
   "id": "5f212c45",
   "metadata": {},
   "source": [
    "Bài 4"
   ]
  },
  {
   "cell_type": "code",
   "execution_count": 52,
   "id": "68f75d4f",
   "metadata": {},
   "outputs": [
    {
     "name": "stdout",
     "output_type": "stream",
     "text": [
      "{H} là kí tự alphabet\n"
     ]
    }
   ],
   "source": [
    "c = input()\n",
    "if (ord(c) <= ord('Z') and ord(c) >= ord('A')) or (ord(c) <= ord('z') and ord(c) >= ord('a')):\n",
    "    print(f\"{{{c}}} là kí tự alphabet\")\n",
    "else:\n",
    "    print(f\"{{{c}}} không phải là kí tự alphabet\")"
   ]
  },
  {
   "cell_type": "markdown",
   "id": "677b6dce",
   "metadata": {},
   "source": [
    "Bài 5"
   ]
  },
  {
   "cell_type": "code",
   "execution_count": 54,
   "id": "98999d4c",
   "metadata": {},
   "outputs": [
    {
     "name": "stdout",
     "output_type": "stream",
     "text": [
      "Không tồn tại chữ cái trước a\n"
     ]
    }
   ],
   "source": [
    "A = input()\n",
    "if ord(A) == ord('A'):\n",
    "    print(\"Không tồn tại chữ cái trước a\")\n",
    "else:\n",
    "    print(f\"Chữ cái trước {chr(ord(A) - (ord('A') - ord('a')))} là {chr(ord(A) - (ord('A') - ord('a')) - 1)}\")"
   ]
  },
  {
   "cell_type": "markdown",
   "id": "8fb8c1d2",
   "metadata": {},
   "source": [
    "Bài 6"
   ]
  },
  {
   "cell_type": "code",
   "execution_count": null,
   "id": "38d27895",
   "metadata": {},
   "outputs": [
    {
     "name": "stdout",
     "output_type": "stream",
     "text": [
      "2.9\n"
     ]
    }
   ],
   "source": [
    "from math import sqrt\n",
    "a, b, c = map(int, input().split())\n",
    "if a + b > c and a + c > b and b + c > a:\n",
    "    p = (a + b + c) / 2\n",
    "    s = sqrt(p * (p - a) * (p - b) * (p - c))\n",
    "    print(round(s, 1))\n",
    "else:\n",
    "    print(\"Khong phai 3 canh cua tam giac\")"
   ]
  },
  {
   "cell_type": "markdown",
   "id": "f1b3c44d",
   "metadata": {},
   "source": [
    "Bài 7"
   ]
  },
  {
   "cell_type": "code",
   "execution_count": 57,
   "id": "1629068e",
   "metadata": {},
   "outputs": [
    {
     "name": "stdout",
     "output_type": "stream",
     "text": [
      "5 9\n"
     ]
    }
   ],
   "source": [
    "c = input()\n",
    "print(c[4], c[8])"
   ]
  },
  {
   "cell_type": "markdown",
   "id": "ef4651cb",
   "metadata": {},
   "source": [
    "Bài 8"
   ]
  },
  {
   "cell_type": "code",
   "execution_count": 70,
   "id": "a4444c88",
   "metadata": {},
   "outputs": [
    {
     "name": "stdout",
     "output_type": "stream",
     "text": [
      "Ho va ten: siu\n",
      "Tien phai tra la: 1855505\n"
     ]
    }
   ],
   "source": [
    "ten = input(\"Ten chu ho: \")\n",
    "cs1 = int(input(\"Chi so thang truoc: \"))\n",
    "cs2 = int(input(\"Chi so thang nay: \"))\n",
    "cs = cs2 - cs1\n",
    "result = 0\n",
    "tien = [1984, 2050, 2380, 2998, 3350, 3460]\n",
    "moc = [0, 50, 100, 200, 300, 400]\n",
    "i = 0\n",
    "while(i < 5 and cs > (moc[i + 1] - moc[i])):\n",
    "    result += tien[i] * (moc[i + 1] - moc[i])\n",
    "    cs -= (moc[i + 1] - moc[i])\n",
    "    i += 1\n",
    "result += cs * tien[i]\n",
    "print(\"Ho va ten: \" + ten)\n",
    "print(\"Tien phai tra la:\", int(round(result * (1 + 0.08), 0)))"
   ]
  },
  {
   "cell_type": "markdown",
   "id": "715dff5c",
   "metadata": {},
   "source": [
    "Một số bài tập khác"
   ]
  },
  {
   "cell_type": "code",
   "execution_count": 8,
   "id": "2cb636b3",
   "metadata": {},
   "outputs": [
    {
     "name": "stdout",
     "output_type": "stream",
     "text": [
      "chan\n"
     ]
    }
   ],
   "source": [
    "# 1\n",
    "n = int(input())\n",
    "print(\"chan\" if n % 2 == 0 else \"le\")"
   ]
  },
  {
   "cell_type": "code",
   "execution_count": 15,
   "id": "a2090537",
   "metadata": {},
   "outputs": [
    {
     "name": "stdout",
     "output_type": "stream",
     "text": [
      "True\n"
     ]
    }
   ],
   "source": [
    "# 2\n",
    "n = int(input())\n",
    "print(n % 10 == 5)"
   ]
  },
  {
   "cell_type": "code",
   "execution_count": 16,
   "id": "453209d5",
   "metadata": {},
   "outputs": [
    {
     "name": "stdout",
     "output_type": "stream",
     "text": [
      "True\n"
     ]
    }
   ],
   "source": [
    "# 3\n",
    "n = int(input())\n",
    "print(n % 3 == 0 and n % 5 == 0)"
   ]
  },
  {
   "cell_type": "code",
   "execution_count": 2,
   "id": "35ac8b08",
   "metadata": {},
   "outputs": [
    {
     "name": "stdout",
     "output_type": "stream",
     "text": [
      "No\n"
     ]
    }
   ],
   "source": [
    "# 4\n",
    "from datetime import datetime\n",
    "today = datetime.today()\n",
    "birth_day = int(input(\"Ngay sinh: \"))\n",
    "birth_month = int(input(\"Thang sinh: \"))\n",
    "birth_year = int(input(\"Nam sinh: \"))\n",
    "years = today.year - birth_year\n",
    "if (birth_month, birth_day) > (today.month, today.day):\n",
    "    years -= 1\n",
    "print(\"Yes\" if years >= 18 else \"No\")"
   ]
  },
  {
   "cell_type": "code",
   "execution_count": 5,
   "id": "0f473aaf",
   "metadata": {},
   "outputs": [
    {
     "name": "stdout",
     "output_type": "stream",
     "text": [
      "6.4\n"
     ]
    }
   ],
   "source": [
    "# 5\n",
    "import math\n",
    "a, b = map(float, input().split())\n",
    "if math.isclose(a, b):\n",
    "    print(\"Bang nhau\")\n",
    "else:\n",
    "    print(max(a, b))"
   ]
  },
  {
   "cell_type": "code",
   "execution_count": null,
   "id": "189706b3",
   "metadata": {},
   "outputs": [
    {
     "name": "stdout",
     "output_type": "stream",
     "text": [
      "Chữ\n"
     ]
    }
   ],
   "source": [
    "# 6\n",
    "n = input()\n",
    "try:\n",
    "    int(n)\n",
    "    print(\"Số\")\n",
    "except ValueError:\n",
    "    print(\"Chữ cái\")"
   ]
  },
  {
   "cell_type": "code",
   "execution_count": null,
   "id": "e9153e23",
   "metadata": {},
   "outputs": [],
   "source": [
    "# 7\n",
    "n = float(input())\n",
    "print(\"Giỏi\" if n >= 8.0 else \"Khá\" if n >= 6.5 else \"Trung bình\" if n >= 5.0 else \"Yếu\")"
   ]
  },
  {
   "cell_type": "code",
   "execution_count": null,
   "id": "b330f40c",
   "metadata": {},
   "outputs": [],
   "source": [
    "# 8\n",
    "n = int(input())\n",
    "if (n % 4 == 0 and n % 100 != 0) or (n % 400 == 0):\n",
    "    print(\"Năm nhuận\")\n",
    "else:\n",
    "    print(\"Không phải năm nhuận\")"
   ]
  },
  {
   "cell_type": "code",
   "execution_count": null,
   "id": "59e0023b",
   "metadata": {},
   "outputs": [
    {
     "name": "stdout",
     "output_type": "stream",
     "text": [
      "Chín\n"
     ]
    }
   ],
   "source": [
    "# 9\n",
    "x = int(input())\n",
    "match x:\n",
    "    case 0:\n",
    "        print(\"Không\")\n",
    "    case 1:\n",
    "        print(\"Một\")\n",
    "    case 2:\n",
    "        print(\"Hai\")\n",
    "    case 3:\n",
    "        print(\"Ba\")\n",
    "    case 4:\n",
    "        print(\"Bốn\")\n",
    "    case 5:\n",
    "        print(\"Năm\")\n",
    "    case 6:\n",
    "        print(\"Sáu\")\n",
    "    case 7:\n",
    "        print(\"Bảy\")\n",
    "    case 8:\n",
    "        print(\"Tám\")\n",
    "    case 9:\n",
    "        print(\"Chín\")"
   ]
  },
  {
   "cell_type": "code",
   "execution_count": null,
   "id": "bb1c158e",
   "metadata": {},
   "outputs": [],
   "source": [
    "# 11\n",
    "from datetime import datetime\n",
    "today = datetime.today()\n",
    "birth_day = int(input(\"Ngay sinh: \"))\n",
    "birth_month = int(input(\"Thang sinh: \"))\n",
    "birth_year = int(input(\"Nam sinh: \"))\n",
    "years = today.year - birth_year\n",
    "if (birth_month, birth_day) > (today.month, today.day):\n",
    "    years -= 1\n",
    "print(\"Yes\" if years >= 18 else \"No\")"
   ]
  }
 ],
 "metadata": {
  "kernelspec": {
   "display_name": ".venv",
   "language": "python",
   "name": "python3"
  },
  "language_info": {
   "codemirror_mode": {
    "name": "ipython",
    "version": 3
   },
   "file_extension": ".py",
   "mimetype": "text/x-python",
   "name": "python",
   "nbconvert_exporter": "python",
   "pygments_lexer": "ipython3",
   "version": "3.13.7"
  }
 },
 "nbformat": 4,
 "nbformat_minor": 5
}
