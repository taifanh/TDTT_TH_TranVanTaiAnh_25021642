{
 "cells": [
  {
   "cell_type": "code",
   "execution_count": null,
   "id": "890a3a43",
   "metadata": {},
   "outputs": [],
   "source": [
    "print(\"Hello World!\")"
   ]
  },
  {
   "cell_type": "code",
   "execution_count": null,
   "id": "8c04f793",
   "metadata": {},
   "outputs": [],
   "source": [
    "name = input(\"What's your name?\\n\")\n",
    "print(\"Hello,\", name)"
   ]
  },
  {
   "cell_type": "code",
   "execution_count": null,
   "id": "a3a668d3",
   "metadata": {},
   "outputs": [],
   "source": [
    "a, b = map(int, input().split())\n",
    "print(a + b, a - b, a * b, a // b, a % b)"
   ]
  },
  {
   "cell_type": "code",
   "execution_count": null,
   "id": "14643711",
   "metadata": {},
   "outputs": [],
   "source": [
    "a1, b1, c1, a2, b2, a3 = map(float, input().split())\n",
    "result = ((a1 + b1 + c1) + (a2 + b2) * 2 + a3 * 3) / 10\n",
    "print(f\"{result:.1f}\")"
   ]
  },
  {
   "cell_type": "code",
   "execution_count": null,
   "id": "d0727ecd",
   "metadata": {},
   "outputs": [],
   "source": [
    "a, b = map(int, input().split())\n",
    "print(a ** b)"
   ]
  },
  {
   "cell_type": "code",
   "execution_count": null,
   "id": "14e1213d",
   "metadata": {},
   "outputs": [],
   "source": [
    "a = input()\n",
    "print(ord(a))\n",
    "print(chr(ord(a) + ord('A') - ord('a')))"
   ]
  },
  {
   "cell_type": "code",
   "execution_count": null,
   "id": "80ede7da",
   "metadata": {},
   "outputs": [],
   "source": [
    "a = ((13 ** 2) * 3) + 5\n",
    "b = 13**2*3 + 5\n",
    "print(a, b)"
   ]
  },
  {
   "cell_type": "code",
   "execution_count": null,
   "id": "a2c5b524",
   "metadata": {},
   "outputs": [],
   "source": [
    "c = float(input())\n",
    "f = 9 / 5 * c + 32\n",
    "print(f\"{f:.2f}\")"
   ]
  },
  {
   "cell_type": "code",
   "execution_count": null,
   "id": "f650c6ec",
   "metadata": {},
   "outputs": [],
   "source": [
    "x = float(input())\n",
    "x = (x + 10) * (1 + 0.4)\n",
    "print(f\"{x:.2f}\")"
   ]
  },
  {
   "cell_type": "code",
   "execution_count": null,
   "id": "233b30e1",
   "metadata": {},
   "outputs": [],
   "source": [
    "a, b, c = input().split()\n",
    "print(c, b, a)"
   ]
  },
  {
   "cell_type": "code",
   "execution_count": null,
   "id": "426fecde",
   "metadata": {},
   "outputs": [],
   "source": [
    "a, b = map(int, input().split())\n",
    "print(a * 3600, b * 60)"
   ]
  },
  {
   "cell_type": "code",
   "execution_count": null,
   "id": "b4c6d28b",
   "metadata": {},
   "outputs": [],
   "source": [
    "n = int(input())\n",
    "print(n ** 2 * 6)"
   ]
  },
  {
   "cell_type": "code",
   "execution_count": null,
   "id": "783963c7",
   "metadata": {},
   "outputs": [],
   "source": [
    "a, b = map(int, input().split())\n",
    "print(a * b % 10)"
   ]
  },
  {
   "cell_type": "code",
   "execution_count": null,
   "id": "c5102391",
   "metadata": {},
   "outputs": [],
   "source": [
    "a, b = map(int, input().split())\n",
    "a, b = b, a\n",
    "print(a, b)"
   ]
  },
  {
   "cell_type": "code",
   "execution_count": null,
   "id": "066cacb4",
   "metadata": {},
   "outputs": [],
   "source": [
    "n = int(input())\n",
    "print(6 * n * (n - 1) + 1)"
   ]
  },
  {
   "cell_type": "code",
   "execution_count": null,
   "id": "3e86c76e",
   "metadata": {},
   "outputs": [],
   "source": [
    "print(\"Spring\\nSummer\\nAutumn\\nWinter\")"
   ]
  },
  {
   "cell_type": "code",
   "execution_count": null,
   "id": "c17fb23a",
   "metadata": {},
   "outputs": [],
   "source": [
    "print(\"*\")\n",
    "print(\"***\")\n",
    "print(\"*****\")"
   ]
  },
  {
   "cell_type": "code",
   "execution_count": null,
   "id": "49fdaf2e",
   "metadata": {},
   "outputs": [],
   "source": [
    "print(\"### ###   ### ###\")\n",
    "print(\" #  #  #   #   #\")\n",
    "print(\" #  #   #  #   #\")\n",
    "print(\" #  #  #   #   #\")\n",
    "print(\" #  ###    #   #\")"
   ]
  },
  {
   "cell_type": "code",
   "execution_count": null,
   "id": "3161a946",
   "metadata": {},
   "outputs": [],
   "source": [
    "print(\"Monday\\nTuesday\\nWednesday\\nThursday\\nFriday\\nSaturday\\nSunday\")"
   ]
  },
  {
   "cell_type": "code",
   "execution_count": null,
   "id": "456d9fd8",
   "metadata": {},
   "outputs": [],
   "source": [
    "print(\"January\\nFebruary\\nMarch\\nApril\\nMay\\nJune\\nJuly\\nAugust\\nSeptember\\nOctober\\nNovember\\nDecember\")"
   ]
  },
  {
   "cell_type": "code",
   "execution_count": null,
   "id": "1df9749c",
   "metadata": {},
   "outputs": [],
   "source": [
    "for i in range(1, 10):\n",
    "    print(\"Hello, world\")"
   ]
  }
 ],
 "metadata": {
  "language_info": {
   "name": "python"
  }
 },
 "nbformat": 4,
 "nbformat_minor": 5
}
