{
 "cells": [
  {
   "cell_type": "code",
   "execution_count": null,
   "id": "b001ba9e",
   "metadata": {},
   "outputs": [
    {
     "name": "stdout",
     "output_type": "stream",
     "text": [
      "500500\n"
     ]
    }
   ],
   "source": [
    "# W4A1\n",
    "n = int(input())\n",
    "sum = 0\n",
    "for i in range(1, n + 1):\n",
    "    sum += i\n",
    "print(sum)"
   ]
  },
  {
   "cell_type": "code",
   "execution_count": null,
   "id": "10da8dd3",
   "metadata": {},
   "outputs": [
    {
     "name": "stdout",
     "output_type": "stream",
     "text": [
      "False\n"
     ]
    }
   ],
   "source": [
    "# W4A2\n",
    "from math import sqrt\n",
    "while True:\n",
    "    n = int(input())\n",
    "    if n <= 0:\n",
    "        continue\n",
    "    if n == 1:\n",
    "        print(False)\n",
    "        break\n",
    "    for i in range(2, int(sqrt(n)) + 1):\n",
    "        if n % i == 0:\n",
    "            print(False)\n",
    "            raise SystemExit\n",
    "    print(True)\n",
    "    break\n",
    "        "
   ]
  },
  {
   "cell_type": "code",
   "execution_count": 14,
   "id": "350623f5",
   "metadata": {},
   "outputs": [
    {
     "name": "stdout",
     "output_type": "stream",
     "text": [
      "6\n"
     ]
    }
   ],
   "source": [
    "# W4A3\n",
    "n = int(input())\n",
    "mul = 1\n",
    "for i in range(1, n + 1):\n",
    "    mul *= i\n",
    "print(mul)"
   ]
  },
  {
   "cell_type": "code",
   "execution_count": 15,
   "id": "6b12e35b",
   "metadata": {},
   "outputs": [
    {
     "name": "stdout",
     "output_type": "stream",
     "text": [
      "3\n"
     ]
    }
   ],
   "source": [
    "# W4A4\n",
    "n = abs(int(input()))\n",
    "cnt = 0\n",
    "while n > 0:\n",
    "    cnt += 1\n",
    "    n //= 10\n",
    "print(cnt)"
   ]
  },
  {
   "cell_type": "code",
   "execution_count": 19,
   "id": "1605fa7f",
   "metadata": {},
   "outputs": [
    {
     "name": "stdout",
     "output_type": "stream",
     "text": [
      "I've found the meaning of life!\n"
     ]
    }
   ],
   "source": [
    "# W4A5\n",
    "n = int(input())\n",
    "a = list(map(int, input().split()))\n",
    "if 42 in a:\n",
    "    print(\"I've found the meaning of life!\")\n",
    "else:\n",
    "    print(\"It's a joke!\")"
   ]
  },
  {
   "cell_type": "code",
   "execution_count": null,
   "id": "e354fe70",
   "metadata": {},
   "outputs": [
    {
     "name": "stdout",
     "output_type": "stream",
     "text": [
      "17\n",
      "0\n",
      "0\n",
      "60\n",
      "533\n"
     ]
    },
    {
     "ename": "ValueError",
     "evalue": "not enough values to unpack (expected 2, got 0)",
     "output_type": "error",
     "traceback": [
      "\u001b[31m---------------------------------------------------------------------------\u001b[39m",
      "\u001b[31mValueError\u001b[39m                                Traceback (most recent call last)",
      "\u001b[36mCell\u001b[39m\u001b[36m \u001b[39m\u001b[32mIn[21]\u001b[39m\u001b[32m, line 12\u001b[39m\n\u001b[32m      9\u001b[39m     \u001b[38;5;28;01mreturn\u001b[39;00m \u001b[38;5;28;01mTrue\u001b[39;00m\n\u001b[32m     11\u001b[39m \u001b[38;5;28;01mwhile\u001b[39;00m \u001b[38;5;28;01mTrue\u001b[39;00m:\n\u001b[32m---> \u001b[39m\u001b[32m12\u001b[39m     a, b = \u001b[38;5;28mmap\u001b[39m(\u001b[38;5;28mint\u001b[39m, \u001b[38;5;28minput\u001b[39m().split())\n\u001b[32m     13\u001b[39m     \u001b[38;5;28msum\u001b[39m = \u001b[32m0\u001b[39m\n\u001b[32m     14\u001b[39m     \u001b[38;5;28;01mfor\u001b[39;00m i \u001b[38;5;129;01min\u001b[39;00m \u001b[38;5;28mrange\u001b[39m(a, b + \u001b[32m1\u001b[39m):\n",
      "\u001b[31mValueError\u001b[39m: not enough values to unpack (expected 2, got 0)"
     ]
    }
   ],
   "source": [
    "# W4A6\n",
    "from math import sqrt\n",
    "def check_prime(n):\n",
    "    if n == 1:\n",
    "        return False\n",
    "    for i in range(2, int(sqrt(n)) + 1):\n",
    "        if n % i == 0:\n",
    "            return False\n",
    "    return True\n",
    "\n",
    "while True:\n",
    "    a, b = map(int, input().split())\n",
    "    sum = 0\n",
    "    for i in range(a, b + 1):\n",
    "        if check_prime(i):\n",
    "            sum += i\n",
    "    print(sum, flush=True)"
   ]
  },
  {
   "cell_type": "code",
   "execution_count": 31,
   "id": "cfcbaebf",
   "metadata": {},
   "outputs": [
    {
     "name": "stdout",
     "output_type": "stream",
     "text": [
      "3\n"
     ]
    }
   ],
   "source": [
    "# W4A7\n",
    "from math import sqrt\n",
    "def check_prime(n):\n",
    "    if n == 1:\n",
    "        return False\n",
    "    for i in range(2, int(sqrt(n)) + 1):\n",
    "        if n % i == 0:\n",
    "            return False\n",
    "    return True\n",
    "\n",
    "n = int(input())\n",
    "for i in range(n, 0, -1):\n",
    "    # print(i)\n",
    "    if n % i == 0 and check_prime(i):\n",
    "        print(i)\n",
    "        break"
   ]
  },
  {
   "cell_type": "code",
   "execution_count": 40,
   "id": "7f4f60f7",
   "metadata": {},
   "outputs": [
    {
     "name": "stdout",
     "output_type": "stream",
     "text": [
      "24 8813200023188\n"
     ]
    }
   ],
   "source": [
    "# W4A8\n",
    "def reverse(n):\n",
    "    return int(str(n)[::-1])\n",
    "\n",
    "def palin(n):\n",
    "    return str(n) == str(n)[::-1]\n",
    "\n",
    "n = int(input())\n",
    "cnt = 0\n",
    "while palin(n) != True:\n",
    "    n += reverse(n)\n",
    "    cnt += 1\n",
    "print(cnt, n)"
   ]
  },
  {
   "cell_type": "code",
   "execution_count": 47,
   "id": "9648f852",
   "metadata": {},
   "outputs": [
    {
     "name": "stdout",
     "output_type": "stream",
     "text": [
      "1 4 9 16 25 36 49 64 81 169 196 256 289 324 361 529 576 625 729 784 841 961 "
     ]
    }
   ],
   "source": [
    "# W4A9\n",
    "from math import sqrt\n",
    "def unique(n):\n",
    "    for i in range(0, 10):\n",
    "        if str(n).count(str(i)) > 1:\n",
    "            return False\n",
    "    return True\n",
    "n = int(input())\n",
    "for i in range(1, n + 1):\n",
    "    if int(sqrt(i)) ** 2 == i and unique(i):\n",
    "        print(i, end = \" \")"
   ]
  },
  {
   "cell_type": "code",
   "execution_count": 52,
   "id": "1e0efa85",
   "metadata": {},
   "outputs": [
    {
     "name": "stdout",
     "output_type": "stream",
     "text": [
      "171 125\n"
     ]
    }
   ],
   "source": [
    "# W4A10\n",
    "def collatz(n):\n",
    "    cnt = 1\n",
    "    while n != 1:\n",
    "        cnt += 1\n",
    "        if n % 2 == 1:\n",
    "            n = n * 3 + 1\n",
    "        else:\n",
    "            n /= 2\n",
    "    return cnt\n",
    "\n",
    "n = int(input())\n",
    "result = (0, 0)\n",
    "for i in range(1, n + 1):\n",
    "    result = max(result, (collatz(i), -i))\n",
    "print(-result[1], result[0])"
   ]
  },
  {
   "cell_type": "code",
   "execution_count": 54,
   "id": "dc580bca",
   "metadata": {},
   "outputs": [
    {
     "name": "stdout",
     "output_type": "stream",
     "text": [
      "11\n"
     ]
    }
   ],
   "source": [
    "# W4A11\n",
    "n = int(input())\n",
    "result = 0\n",
    "for i in range(1, n + 1):\n",
    "    if n % i == 0 and i % 2 == 0:\n",
    "        result += 1\n",
    "print(result)"
   ]
  },
  {
   "cell_type": "code",
   "execution_count": 57,
   "id": "d24fc306",
   "metadata": {},
   "outputs": [
    {
     "name": "stdout",
     "output_type": "stream",
     "text": [
      "10902\n"
     ]
    }
   ],
   "source": [
    "# W4A12\n",
    "x, n = map(int, input().split())\n",
    "while n:\n",
    "    x *= (1 + 0.7 / 100)\n",
    "    n -= 1\n",
    "print(int(x))"
   ]
  },
  {
   "cell_type": "code",
   "execution_count": 98,
   "id": "1e38ca5c",
   "metadata": {},
   "outputs": [
    {
     "name": "stdout",
     "output_type": "stream",
     "text": [
      "false\n"
     ]
    }
   ],
   "source": [
    "# W4A13\n",
    "def sum_divisor(n):\n",
    "    sum = 0\n",
    "    for i in range(1, n):\n",
    "        if n % i == 0:\n",
    "            sum += i\n",
    "    return sum\n",
    "\n",
    "a, b = map(int, input().split())\n",
    "print(\"true\" if a == sum_divisor(b) and b == sum_divisor(a) else \"false\")"
   ]
  },
  {
   "cell_type": "code",
   "execution_count": null,
   "id": "c62b6e34",
   "metadata": {},
   "outputs": [
    {
     "name": "stdout",
     "output_type": "stream",
     "text": [
      "8\n"
     ]
    }
   ],
   "source": [
    "# W4A14\n",
    "from math import gcd\n",
    "a, b = map(int, input().split())\n",
    "print(gcd(a, b))"
   ]
  },
  {
   "cell_type": "code",
   "execution_count": null,
   "id": "dbde2afa",
   "metadata": {},
   "outputs": [
    {
     "name": "stdout",
     "output_type": "stream",
     "text": [
      "59 19\n"
     ]
    }
   ],
   "source": [
    "# W4A15\n",
    "a, b = map(int, input().split())\n",
    "if b % 2 == 1:\n",
    "    print(\"invalid\")\n",
    "else:\n",
    "    y = (b - 2 * a) / 2\n",
    "    x = a - y\n",
    "    print(int(x), int(y))"
   ]
  },
  {
   "cell_type": "code",
   "execution_count": 70,
   "id": "6cceb56f",
   "metadata": {},
   "outputs": [
    {
     "name": "stdout",
     "output_type": "stream",
     "text": [
      "6\n",
      "12\n",
      "18\n",
      "24\n",
      "30\n",
      "36\n",
      "42\n",
      "48\n",
      "54\n",
      "60\n",
      "66\n",
      "72\n",
      "78\n",
      "84\n",
      "90\n",
      "96\n"
     ]
    }
   ],
   "source": [
    "# W4A16\n",
    "for i in range(6, 100, 6):\n",
    "    print(i)"
   ]
  },
  {
   "cell_type": "code",
   "execution_count": 74,
   "id": "aa534eaa",
   "metadata": {},
   "outputs": [
    {
     "name": "stdout",
     "output_type": "stream",
     "text": [
      "12 x 1 = 12\n",
      "12 x 2 = 24\n",
      "12 x 3 = 36\n",
      "12 x 4 = 48\n",
      "12 x 5 = 60\n",
      "12 x 6 = 72\n",
      "12 x 7 = 84\n",
      "12 x 8 = 96\n",
      "12 x 9 = 108\n",
      "12 x 10 = 120\n"
     ]
    }
   ],
   "source": [
    "# W4A17\n",
    "a = int(input())\n",
    "\n",
    "for i in range(1, 11):\n",
    "    print(f\"{a} x {i} = {a * i}\")"
   ]
  },
  {
   "cell_type": "code",
   "execution_count": 73,
   "id": "c919ced8",
   "metadata": {},
   "outputs": [
    {
     "name": "stdout",
     "output_type": "stream",
     "text": [
      "1\n",
      "2\n"
     ]
    }
   ],
   "source": [
    "# W4A18\n",
    "a, b = map(int, input().split())\n",
    "for i in range(1, min(a, b) + 1):\n",
    "    if a % i == 0 and b % i == 0:\n",
    "        print(i)"
   ]
  },
  {
   "cell_type": "code",
   "execution_count": 75,
   "id": "8a656b9d",
   "metadata": {},
   "outputs": [
    {
     "name": "stdout",
     "output_type": "stream",
     "text": [
      "2 4 6 8 "
     ]
    }
   ],
   "source": [
    "# W4A19\n",
    "n = int(input())\n",
    "for i in range(2, n + 1, 2):\n",
    "    print(i, end = \" \")"
   ]
  },
  {
   "cell_type": "code",
   "execution_count": 77,
   "id": "0dd7ff0a",
   "metadata": {},
   "outputs": [
    {
     "name": "stdout",
     "output_type": "stream",
     "text": [
      "No\n"
     ]
    }
   ],
   "source": [
    "# W4A20\n",
    "n = int(input())\n",
    "if n.bit_count() == 1:\n",
    "    print(\"Yes\")\n",
    "else:\n",
    "    print(\"No\")"
   ]
  },
  {
   "cell_type": "code",
   "execution_count": 101,
   "id": "1328f5d9",
   "metadata": {},
   "outputs": [
    {
     "name": "stdout",
     "output_type": "stream",
     "text": [
      "34\n"
     ]
    }
   ],
   "source": [
    "# W4A21\n",
    "# del sum\n",
    "n = int(input())\n",
    "lst = list(map(int, list(str(n))))\n",
    "result = sum(lst)\n",
    "print(result)"
   ]
  },
  {
   "cell_type": "code",
   "execution_count": null,
   "id": "1a60d80d",
   "metadata": {},
   "outputs": [],
   "source": [
    "# W4A22\n",
    "n = int(input())\n",
    "chan = 0\n",
    "le = 0\n",
    "while n > 0:\n",
    "    if n % 10 % 2 == 0:\n",
    "        chan += 1\n",
    "    else:\n",
    "        le += 1\n",
    "    n //= 10\n",
    "print(chan, le)"
   ]
  }
 ],
 "metadata": {
  "kernelspec": {
   "display_name": ".venv",
   "language": "python",
   "name": "python3"
  },
  "language_info": {
   "codemirror_mode": {
    "name": "ipython",
    "version": 3
   },
   "file_extension": ".py",
   "mimetype": "text/x-python",
   "name": "python",
   "nbconvert_exporter": "python",
   "pygments_lexer": "ipython3",
   "version": "3.13.7"
  }
 },
 "nbformat": 4,
 "nbformat_minor": 5
}
